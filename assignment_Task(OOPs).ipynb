{
 "cells": [
  {
   "cell_type": "markdown",
   "id": "76ca5ce5-b57f-4f53-87ea-3cc8168535c6",
   "metadata": {},
   "source": [
    "Q1, Create a vehicle class with an init method having instance variables as name_of_vehicle, max_speed and average_of_vehicle."
   ]
  },
  {
   "cell_type": "code",
   "execution_count": 2,
   "id": "dbdfe45d-9abf-4846-bf61-0ee351487d04",
   "metadata": {},
   "outputs": [
    {
     "data": {
      "text/plain": [
       "'this my volvo , it has max speed of 350 and average of vehicle is 5cr '"
      ]
     },
     "execution_count": 2,
     "metadata": {},
     "output_type": "execute_result"
    }
   ],
   "source": [
    "class vehicle :\n",
    "    def __init__(self,name_of_vehicle,max_speed,average_of_vehicle):\n",
    "        self.name_of_vehicle = name_of_vehicle\n",
    "        self.max_speed = max_speed\n",
    "        self.average_of_vehicle = average_of_vehicle\n",
    "    def vehicle_info(self):\n",
    "        return f\"this my {self.name_of_vehicle} , it has max speed of {self.max_speed} and average of vehicle is {self.average_of_vehicle} \"\n",
    "obj01 = vehicle(\"volvo\",350,\"5cr\")\n",
    "obj01.vehicle_info()\n"
   ]
  },
  {
   "cell_type": "markdown",
   "id": "cc4d913e-d8bf-4519-ad28-6a2b370fe612",
   "metadata": {},
   "source": [
    "Q2. Create a child class car from the vehicle class created in Que 1, which will inherit the vehicle class.\n",
    "Create a method named seating_capacity which takes capacity as an argument and returns the name of\n",
    "the vehicle and its seating capacity."
   ]
  },
  {
   "cell_type": "code",
   "execution_count": 42,
   "id": "86275319-8386-429c-96d2-906fe348c2e1",
   "metadata": {},
   "outputs": [
    {
     "name": "stdout",
     "output_type": "stream",
     "text": [
      "this is my volvo and capacity is 4\n",
      "4\n"
     ]
    }
   ],
   "source": [
    "class vehicle:\n",
    "    def __init__(self,name_of_vehicle , max_speed , average_of_vehicle):\n",
    "        self.name_of_vehicle = name_of_vehicle\n",
    "        self.max_speed = max_speed\n",
    "        self.average_of_vehicle = average_of_vehicle\n",
    "    def vehicle_info(self):\n",
    "        return f\"this is my {self.name_of_vehicle} , it has max speed of {self.max_speed} and average of vehicle is {self.average_of_vehicle} \"\n",
    "class car(vehicle):\n",
    "    def __init__(self,name_of_vehicle , max_speed , average_of_vehicle,seating_capacity):\n",
    "        vehicle.__init__(self,name_of_vehicle , max_speed , average_of_vehicle)\n",
    "        #super().__init__(name_of_vehicle , max_speed , average_of_vehicle)\n",
    "        self.seating_capacity = seating_capacity\n",
    "    def car_info(self):\n",
    "        return f\"this is my {self.name_of_vehicle} and capacity is {self.seating_capacity}\"\n",
    "c = car(\"volvo\" , 350 , \"5cr\", 4)\n",
    "print(c.car_info())\n",
    "print(c.seating_capacity)"
   ]
  },
  {
   "cell_type": "markdown",
   "id": "41b6489d-4750-472f-b2f7-a9769e1fbfb4",
   "metadata": {},
   "source": [
    "Q3. What is multiple inheritance? Write a python code to demonstrate multiple inheritance.\n",
    "\n",
    "Ans:Multiple inheritance is a feature in object-oriented programming that allows a class to inherit from more than one parent class. This can be useful for creating classes that have a combination of features from different classes."
   ]
  },
  {
   "cell_type": "code",
   "execution_count": 57,
   "id": "463ed115-e167-4e0a-b8aa-1ee747ffe41a",
   "metadata": {},
   "outputs": [
    {
     "name": "stdout",
     "output_type": "stream",
     "text": [
      "this is my volvo it have s speed of 385 and its cost is 5cr\n",
      "this is my busit have a speed 120 of and its cost is 5cr\n"
     ]
    }
   ],
   "source": [
    "class car:\n",
    "    def __init__(self,name,speed,cost):\n",
    "        self.name = name \n",
    "        self.speed = speed\n",
    "        self.cost = cost\n",
    "    def car_info(self):\n",
    "        return f\"this is my {self.name} it have s speed of {self.speed} and its cost is {self.cost}\"\n",
    "class bus:\n",
    "    # def __init__(self,name02 = \"volvo_bus\",speed02 = 120,cost02 = \"1cr\"):\n",
    "    #     self.name02 = name02\n",
    "    #     self.speed02 = speed02\n",
    "    #     self.cost02 = cost02\n",
    "    def bus_info(self):\n",
    "        return f\"this is my busit have a speed 120 of and its cost is 5cr\"\n",
    "    \n",
    "class vehicle(car,bus):\n",
    "    pass\n",
    "\n",
    "    \n",
    "obj01 = vehicle(\"volvo\" , 385 , \"5cr\")\n",
    "print(obj01.car_info())\n",
    "print(obj01.bus_info())"
   ]
  },
  {
   "cell_type": "markdown",
   "id": "e5068bb0-2cd7-4a45-a5bf-4cb1de31f4bd",
   "metadata": {},
   "source": [
    "Q4. What are getter and setter in python? Create a class and create a getter and a setter method in this\n",
    "class.\n",
    "\n",
    "Ans: Getter and setter methods are used to encapsulate data in Python. This means that the data is hidden from the outside world and can only be accessed through the getter and setter methods. This helps to protect the data from being accidentally changed or corrupted.\n",
    "\n",
    "As you can see, the getter and setter methods allow us to access and set the values of the element or variable properties in a controlled manner. This helps to protect the data from being accidentally changed or corrupted"
   ]
  },
  {
   "cell_type": "code",
   "execution_count": 7,
   "id": "6eadfa63-98bb-4ced-8f13-b12a3aef9de0",
   "metadata": {},
   "outputs": [
    {
     "data": {
      "text/plain": [
       "'2cr'"
      ]
     },
     "execution_count": 7,
     "metadata": {},
     "output_type": "execute_result"
    }
   ],
   "source": [
    "class Car :\n",
    "    def __init__(self, company, model, year, cost ):\n",
    "        self.company = company\n",
    "        self.model = model\n",
    "        self.year = year \n",
    "        self.__cost = cost\n",
    "    @property\n",
    "    def Access_cost(self):\n",
    "        return self.__cost\n",
    "c = Car(\"BMW\",\"X5\",2020,\"2cr\")\n",
    "c.Access_cost"
   ]
  },
  {
   "cell_type": "code",
   "execution_count": 9,
   "id": "6881a70e-e937-433c-bc03-b89933018856",
   "metadata": {},
   "outputs": [
    {
     "data": {
      "text/plain": [
       "976349"
      ]
     },
     "execution_count": 9,
     "metadata": {},
     "output_type": "execute_result"
    }
   ],
   "source": [
    "class bus:\n",
    "    def __init__(self, company, model, year, cost):\n",
    "        self.comapy = company\n",
    "        self.model = model\n",
    "        self.year = year\n",
    "        self.__cost = cost\n",
    "    @property\n",
    "    def Access_cost01(self):\n",
    "        return self.__cost\n",
    "    @Access_cost01.setter\n",
    "    def cost_set(self , cost_bus):\n",
    "        self.__cost = cost_bus\n",
    "b = bus(\"mahindra\" , \"ekb56\", 2012, 976349)\n",
    "b.Access_cost01"
   ]
  },
  {
   "cell_type": "code",
   "execution_count": 11,
   "id": "56d58040-87bf-427f-8e24-cf5bb8799e42",
   "metadata": {},
   "outputs": [
    {
     "data": {
      "text/plain": [
       "99789675"
      ]
     },
     "execution_count": 11,
     "metadata": {},
     "output_type": "execute_result"
    }
   ],
   "source": [
    "b.cost_set = 99789675\n",
    "b.Access_cost01"
   ]
  },
  {
   "cell_type": "markdown",
   "id": "94113ff9-5c24-4b71-b8f1-ee407fc61644",
   "metadata": {},
   "source": [
    "Q5.What is method overriding in python? Write a python code to demonstrate method overriding.\n",
    "\n",
    "Ans: Method overriding is a feature of object-oriented programming languages that allows a subclass or child class to provide its own implementation of a method that is already defined in the parent class or superclass. When the same name, parameters, or signature is input in the subclass as in the parent class, then the method of implementation in the subclass overrides the method as mentioned in the parent class."
   ]
  },
  {
   "cell_type": "code",
   "execution_count": 18,
   "id": "f88937e5-745c-48dc-8f5e-3d5b40ec4b96",
   "metadata": {},
   "outputs": [
    {
     "name": "stdout",
     "output_type": "stream",
     "text": [
      "prajwal\n",
      "None\n",
      "mohit\n",
      "None\n"
     ]
    }
   ],
   "source": [
    "class vehicle:\n",
    "    def __init__(self , praj):\n",
    "        self.praj = praj\n",
    "    def show(self):\n",
    "        print(self.praj)\n",
    "        \n",
    "class car(vehicle):\n",
    "    def __init__(self , mohi):\n",
    "        self.mohi = mohi\n",
    "    def show(self):\n",
    "        print(self.mohi)\n",
    "v = vehicle(\"prajwal\")\n",
    "c = car(\"mohit\")\n",
    "print(v.show())\n",
    "print(c.show())"
   ]
  },
  {
   "cell_type": "code",
   "execution_count": null,
   "id": "5050921a-edc5-476e-985f-46fbd20e727c",
   "metadata": {},
   "outputs": [],
   "source": []
  }
 ],
 "metadata": {
  "kernelspec": {
   "display_name": "Python 3 (ipykernel)",
   "language": "python",
   "name": "python3"
  },
  "language_info": {
   "codemirror_mode": {
    "name": "ipython",
    "version": 3
   },
   "file_extension": ".py",
   "mimetype": "text/x-python",
   "name": "python",
   "nbconvert_exporter": "python",
   "pygments_lexer": "ipython3",
   "version": "3.10.8"
  }
 },
 "nbformat": 4,
 "nbformat_minor": 5
}
