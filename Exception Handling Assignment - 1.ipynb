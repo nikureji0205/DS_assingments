{
 "cells": [
  {
   "cell_type": "markdown",
   "id": "31baf422-8515-4ccd-8c4f-68d7d9f07835",
   "metadata": {},
   "source": [
    "Q1. what is an Exception in python? Write the difference Exceptions and syntax errors"
   ]
  },
  {
   "cell_type": "markdown",
   "id": "457966cc-b68d-4f01-91e4-1988b8a23cda",
   "metadata": {},
   "source": [
    "ANS: In Python, an exception is an error that occurs during the execution of a program. Exceptions are raised when the program encounters an unexpected condition that prevents it from continuing its normal flow. On the other hand, syntax errors occur when the interpreter is unable to parse the code due to incorrect syntax.\n",
    "\n"
   ]
  },
  {
   "cell_type": "code",
   "execution_count": 3,
   "id": "df51c807-69db-4ad1-9a34-7ea77e711210",
   "metadata": {},
   "outputs": [
    {
     "ename": "NameError",
     "evalue": "name 'x' is not defined",
     "output_type": "error",
     "traceback": [
      "\u001b[0;31m---------------------------------------------------------------------------\u001b[0m",
      "\u001b[0;31mNameError\u001b[0m                                 Traceback (most recent call last)",
      "Cell \u001b[0;32mIn[3], line 1\u001b[0m\n\u001b[0;32m----> 1\u001b[0m \u001b[38;5;28;01mif\u001b[39;00m \u001b[43mx\u001b[49m(\u001b[38;5;28mint\u001b[39m)\u001b[38;5;241m>\u001b[39m\u001b[38;5;241m30\u001b[39m: \u001b[38;5;66;03m#here is the syntax error as we don't give the colon after the if statement \u001b[39;00m\n\u001b[1;32m      3\u001b[0m     a \u001b[38;5;241m=\u001b[39m \u001b[38;5;241m20\u001b[39m\n\u001b[1;32m      5\u001b[0m     b \u001b[38;5;241m=\u001b[39m \u001b[38;5;241m0\u001b[39m\n",
      "\u001b[0;31mNameError\u001b[0m: name 'x' is not defined"
     ]
    }
   ],
   "source": [
    "if x>30 #here is the syntax error as we don't give the colon after the if statement \n",
    "    \n",
    "    a = 20\n",
    "    \n",
    "    b = 0\n",
    "    \n",
    "    result = a/b # here is ZeroDivisionError exception occure \n",
    "    \n",
    "    print(\"hey you are my friend\")\n",
    "\n",
    "else :\n",
    "    \n",
    "    print(\"you are not my friend\")"
   ]
  },
  {
   "cell_type": "markdown",
   "id": "7dbcf4a2-5f5f-4a8f-aad0-01b6375b0a01",
   "metadata": {},
   "source": [
    "Q2. What happens when an exception is not handled ? Explain with an example "
   ]
  },
  {
   "cell_type": "markdown",
   "id": "ebfe73f7-e548-4ead-ad4d-808937ff2b59",
   "metadata": {},
   "source": [
    "ANS : if we don't handle the Exception we will not able to execute the next step of program and it will occure the error in program "
   ]
  },
  {
   "cell_type": "code",
   "execution_count": 13,
   "id": "a1251567-55a5-4e1b-a933-c323e7777270",
   "metadata": {},
   "outputs": [
    {
     "name": "stdout",
     "output_type": "stream",
     "text": [
      "division by zero\n"
     ]
    }
   ],
   "source": [
    "#Example :\n",
    "try :\n",
    "    a = 10\n",
    "    b = 0\n",
    "    \n",
    "    result = a/b #Here error is occure because of the, 10 is not divisible by zero\n",
    "    print(result)\n",
    "except ZeroDivisionError as e:\n",
    "    print(e)"
   ]
  },
  {
   "cell_type": "markdown",
   "id": "671328a8-7cf0-40ba-9847-0ac0d62d717f",
   "metadata": {},
   "source": [
    "Q3. which python statement are used to catch and handle exception ? Explain with an example .\n",
    "\n",
    "ANS: To catch and handle exceptions in Python,you can use the try and except statements The try block contains the statements that might raise an exception,while the except block contains the statements that handle the exception Here is an example of how to use the try and except statements.\n"
   ]
  },
  {
   "cell_type": "code",
   "execution_count": 19,
   "id": "62eac5dc-28bd-4c6e-a796-939f8683c2fb",
   "metadata": {},
   "outputs": [
    {
     "name": "stdout",
     "output_type": "stream",
     "text": [
      "invalid literal for int() with base 10: 'sudh'\n"
     ]
    }
   ],
   "source": [
    "#Example:\n",
    "try:\n",
    "    int(\"sudh\")\n",
    "except ValueError as e :\n",
    "    print(e)"
   ]
  },
  {
   "cell_type": "markdown",
   "id": "7101f996-e01c-42a7-81ff-927ed21d6535",
   "metadata": {},
   "source": [
    "Q4 Explain with an example\n",
    "\n",
    "  a. try and else\n",
    "  \n",
    "  b. finaaly\n",
    "  \n",
    "  c. raise"
   ]
  },
  {
   "cell_type": "code",
   "execution_count": 6,
   "id": "0e37fb70-0bf5-4ff4-975c-9d7d29beca49",
   "metadata": {},
   "outputs": [
    {
     "name": "stdout",
     "output_type": "stream",
     "text": [
      "invalid literal for int() with base 10: 'praj'\n"
     ]
    }
   ],
   "source": [
    "#a. try and else : \n",
    "try:\n",
    "    int(\"praj\")\n",
    "except ValueError as e:\n",
    "    print(e)\n",
    "else :\n",
    "    print(\"hello my name is prajwal\")\n",
    "    \n",
    "#here int is the ERROR as \"praj\" shoud be in str so else will not execute because of the error occure"
   ]
  },
  {
   "cell_type": "code",
   "execution_count": 7,
   "id": "c6ef27e4-a868-4bce-8f46-d69b7c76dbf1",
   "metadata": {},
   "outputs": [
    {
     "name": "stdout",
     "output_type": "stream",
     "text": [
      "invalid literal for int() with base 10: 'prajwal'\n",
      "no matter what i will execurte \n"
     ]
    }
   ],
   "source": [
    "# finnally:\n",
    "try :\n",
    "    int(\"prajwal\")\n",
    "except ValueError as e:\n",
    "    print(e)\n",
    "finally :\n",
    "    print(\"no matter what i will execurte \" )"
   ]
  },
  {
   "cell_type": "code",
   "execution_count": 15,
   "id": "b8b5c581-e03a-403e-b3be-bd137920cd6c",
   "metadata": {},
   "outputs": [
    {
     "name": "stdout",
     "output_type": "stream",
     "text": [
      "invalid literal for int() with base 10: 'prajwal'\n"
     ]
    },
    {
     "ename": "ValueError",
     "evalue": "string can't be change into integer",
     "output_type": "error",
     "traceback": [
      "\u001b[0;31m---------------------------------------------------------------------------\u001b[0m",
      "\u001b[0;31mValueError\u001b[0m                                Traceback (most recent call last)",
      "Cell \u001b[0;32mIn[15], line 3\u001b[0m\n\u001b[1;32m      2\u001b[0m \u001b[38;5;28;01mtry\u001b[39;00m:\n\u001b[0;32m----> 3\u001b[0m     \u001b[38;5;28;43mint\u001b[39;49m\u001b[43m(\u001b[49m\u001b[38;5;124;43m\"\u001b[39;49m\u001b[38;5;124;43mprajwal\u001b[39;49m\u001b[38;5;124;43m\"\u001b[39;49m\u001b[43m)\u001b[49m\n\u001b[1;32m      4\u001b[0m \u001b[38;5;28;01mexcept\u001b[39;00m \u001b[38;5;167;01mException\u001b[39;00m \u001b[38;5;28;01mas\u001b[39;00m e:\n",
      "\u001b[0;31mValueError\u001b[0m: invalid literal for int() with base 10: 'prajwal'",
      "\nDuring handling of the above exception, another exception occurred:\n",
      "\u001b[0;31mValueError\u001b[0m                                Traceback (most recent call last)",
      "Cell \u001b[0;32mIn[15], line 6\u001b[0m\n\u001b[1;32m      4\u001b[0m \u001b[38;5;28;01mexcept\u001b[39;00m \u001b[38;5;167;01mException\u001b[39;00m \u001b[38;5;28;01mas\u001b[39;00m e:\n\u001b[1;32m      5\u001b[0m     \u001b[38;5;28mprint\u001b[39m(e)\n\u001b[0;32m----> 6\u001b[0m     \u001b[38;5;28;01mraise\u001b[39;00m \u001b[38;5;167;01mValueError\u001b[39;00m(\u001b[38;5;124m\"\u001b[39m\u001b[38;5;124mstring can\u001b[39m\u001b[38;5;124m'\u001b[39m\u001b[38;5;124mt be change into integer\u001b[39m\u001b[38;5;124m\"\u001b[39m)\n\u001b[1;32m      7\u001b[0m     \u001b[38;5;66;03m#print(\"hey my name is prajwal\")\u001b[39;00m\n",
      "\u001b[0;31mValueError\u001b[0m: string can't be change into integer"
     ]
    }
   ],
   "source": [
    "#Raise:\n",
    "try:\n",
    "    int(\"prajwal\")\n",
    "except Exception as e:\n",
    "    print(e)\n",
    "    raise ValueError(\"string can't be change into integer\")\n",
    "    #print(\"hey my name is prajwal\")"
   ]
  },
  {
   "cell_type": "markdown",
   "id": "6d38a0bb-6875-4078-a119-b6a22c8333a6",
   "metadata": {},
   "source": [
    "Q5 What are custom Exception in python? why do we need custom Exception ? Explain with an example."
   ]
  },
  {
   "cell_type": "markdown",
   "id": "2534b823-c89a-4e33-8d55-b61582cce122",
   "metadata": {},
   "source": [
    "ANS : custom exception in python are user-define exception that are created by the programmer to handle specific error scenarios in a new clas that is derived from the built-in EXECPTION class   "
   ]
  },
  {
   "cell_type": "markdown",
   "id": "6cda3252-30d4-47f4-82f5-779895a58c8f",
   "metadata": {},
   "source": [
    "Q6 Create a custom eexception class.to handle an exception ."
   ]
  },
  {
   "cell_type": "code",
   "execution_count": null,
   "id": "972e459e-e2b8-455f-8e5c-19a9338403c4",
   "metadata": {},
   "outputs": [],
   "source": [
    "class validateage (Exception):\n",
    "    def __init__(self,msg):\n",
    "        self.msg = msg\n",
    "def validate_age(age):\n",
    "    if age < 0:\n",
    "        raise validateage(f\"entered age in negative{age}\")\n",
    "    elif age > 100:\n",
    "        raise validateage(f\"entered age is very high {age}\")\n",
    "    else:\n",
    "        print(\"age is valid\")\n",
    "\n",
    "try :\n",
    "            age = int(input(\"enter your age\"))\n",
    "            validate_age(age)\n",
    "except validateage as e :\n",
    "            print(e)\n",
    "              \n",
    "              \n",
    "              "
   ]
  },
  {
   "cell_type": "code",
   "execution_count": null,
   "id": "a84d22ce-e597-4177-808a-1cf1ae3bca2f",
   "metadata": {},
   "outputs": [],
   "source": []
  }
 ],
 "metadata": {
  "kernelspec": {
   "display_name": "Python 3 (ipykernel)",
   "language": "python",
   "name": "python3"
  },
  "language_info": {
   "codemirror_mode": {
    "name": "ipython",
    "version": 3
   },
   "file_extension": ".py",
   "mimetype": "text/x-python",
   "name": "python",
   "nbconvert_exporter": "python",
   "pygments_lexer": "ipython3",
   "version": "3.10.8"
  }
 },
 "nbformat": 4,
 "nbformat_minor": 5
}
