{
 "cells": [
  {
   "cell_type": "markdown",
   "id": "dc635339-f875-4284-b923-382357606cd4",
   "metadata": {},
   "source": [
    "Q1. Which keyword is used to create a function? Create a function to return a list of odd numbers in the\n",
    "range of 1 to 25.\n",
    "\n",
    "ans: 'def' is used as a keyword to create a function "
   ]
  },
  {
   "cell_type": "code",
   "execution_count": 1,
   "id": "9830e341-401b-49d7-bef3-c132f7482085",
   "metadata": {},
   "outputs": [
    {
     "name": "stdout",
     "output_type": "stream",
     "text": [
      "1\n",
      "3\n",
      "5\n",
      "7\n",
      "9\n",
      "11\n",
      "13\n",
      "15\n",
      "17\n",
      "19\n",
      "21\n",
      "23\n"
     ]
    }
   ],
   "source": [
    "def odd_num():\n",
    "    for i in range(1,25):\n",
    "        if i%2 != 0 :\n",
    "            print(i)\n",
    "odd_num()"
   ]
  },
  {
   "cell_type": "markdown",
   "id": "8cce00eb-cf4f-41df-bec9-bf06eed232be",
   "metadata": {},
   "source": [
    "Q2. Why *args and **kwargs is used in some functions? Create a function each for *args and **kwargs\n",
    "to demonstrate their use.\n",
    "\n",
    "ans:(i)*args:  The special syntax *args in function definitions in Python is used to pass a variable number of arguments to a function. It store the inpute in tuple format and also give output in tuple\n",
    "\n",
    "(ii)**kwargs :The special syntax **kwargs in function definitions in Python is used to pass a keyworded, variable-length argument list. We use the name kwargs with the double star.   It store the inpute in dictonary format and also give output in dictonary"
   ]
  },
  {
   "cell_type": "code",
   "execution_count": 2,
   "id": "5ea24492-65de-4bf9-a410-25f4868f3309",
   "metadata": {},
   "outputs": [
    {
     "name": "stdout",
     "output_type": "stream",
     "text": [
      "6.5\n",
      "5\n",
      "7\n",
      "8\n",
      "4\n",
      "8\n",
      "4\n"
     ]
    }
   ],
   "source": [
    "##*args##\n",
    "def hey(*args,a=0):\n",
    "    for i in args:\n",
    "        print(a+i)\n",
    "hey(6.5,5,7,8,4,8,4)\n",
    "    "
   ]
  },
  {
   "cell_type": "code",
   "execution_count": 3,
   "id": "fb9663ac-2fb4-4211-88a0-d9eac076fc3e",
   "metadata": {},
   "outputs": [
    {
     "name": "stdout",
     "output_type": "stream",
     "text": [
      "[[1, 2, 3, 4], 34.45, (6, 7, 89)]\n"
     ]
    }
   ],
   "source": [
    "##**kwargs##\n",
    "def hello(a=1,**kwargs):\n",
    "    print(list(kwargs.values()))\n",
    "hello(b = [1,2,3,4],c = 34.45,d=(6,7,89,))   "
   ]
  },
  {
   "cell_type": "markdown",
   "id": "98cf657e-fbd3-4d4e-aa3a-1989d16762f3",
   "metadata": {},
   "source": [
    "Q3. What is an iterator in python? Name the method used to initialise the iterator object and the method\n",
    "used for iteration. Use these methods to print the first five elements of the given list [2, 4, 6, 8, 10, 12, 14,\n",
    "16, 18, 20]\n",
    "\n",
    "Ans : An iterator in Python is an object that contains a countable number of elements that can be iterated upon.\n",
    "\n",
    "we can say that Iterators are objects that allow you to traverse through all the elements of a collection and return one element at a time\n",
    "\n",
    "example is in below:\n"
   ]
  },
  {
   "cell_type": "code",
   "execution_count": 4,
   "id": "9eda0541-c3c5-4fdb-981f-ced897c7ffc4",
   "metadata": {},
   "outputs": [
    {
     "data": {
      "text/plain": [
       "str_iterator"
      ]
     },
     "execution_count": 4,
     "metadata": {},
     "output_type": "execute_result"
    }
   ],
   "source": [
    "x = \"Prajwal\"\n",
    "x1 = iter(x)\n",
    "type(x1)"
   ]
  },
  {
   "cell_type": "code",
   "execution_count": 5,
   "id": "ed13e994-5b5d-4c3f-bff4-e987073db80f",
   "metadata": {},
   "outputs": [
    {
     "data": {
      "text/plain": [
       "'P'"
      ]
     },
     "execution_count": 5,
     "metadata": {},
     "output_type": "execute_result"
    }
   ],
   "source": [
    "next(x1)"
   ]
  },
  {
   "cell_type": "code",
   "execution_count": 6,
   "id": "43ab042b-8fa5-44c1-a09f-159a315b5411",
   "metadata": {},
   "outputs": [
    {
     "name": "stdout",
     "output_type": "stream",
     "text": [
      "p\n",
      "r\n",
      "a\n",
      "j\n",
      "w\n",
      "a\n",
      "l\n"
     ]
    }
   ],
   "source": [
    "x = \"prajwal\"\n",
    "for i in x:\n",
    "    print(i)"
   ]
  },
  {
   "cell_type": "markdown",
   "id": "5d143c86-012e-43b9-8538-85f218786f14",
   "metadata": {},
   "source": [
    "Q4. What is a generator function in python? Why yield keyword is used? Give an example of a generator\n",
    "function.\n",
    "\n",
    "Ans :-  Generator function is use to optimize the the memory consumtion  we used generator function\n",
    "\n",
    "-its generate the outcome one by one it doest not hold entire outcome in memory and display the entire result  \n",
    "\n",
    "Yield keyworld : the yield keyworld in python is similar to a return satement used for returning values in python which return thr grnerator object to the one who call the function which cantains yield \n",
    "\n",
    "-it is mostly used in genrator function \n",
    "\n",
    "-yield is memory efficient\n",
    "\n",
    "-it can be used as ietrater object"
   ]
  },
  {
   "cell_type": "code",
   "execution_count": 7,
   "id": "66e9a647-ace2-4fb2-809e-46d0be3aaeb0",
   "metadata": {},
   "outputs": [
    {
     "name": "stdout",
     "output_type": "stream",
     "text": [
      "10\n",
      "9\n",
      "8\n",
      "7\n",
      "6\n",
      "5\n",
      "4\n",
      "3\n",
      "2\n",
      "1\n"
     ]
    }
   ],
   "source": [
    "def test(n):\n",
    "    a , b = 10 , 1\n",
    "    for i in range(n):\n",
    "        yield a \n",
    "        a , b = a-b , b\n",
    "test(10)\n",
    "for i in test(10):\n",
    "     print(i)"
   ]
  },
  {
   "cell_type": "markdown",
   "id": "be79c620-16fa-4408-adb0-bb73a3617d12",
   "metadata": {},
   "source": [
    "Q5. Create a generator function for prime numbers less than 1000. Use the next() method to print the\n",
    "first 20 prime numbers."
   ]
  },
  {
   "cell_type": "code",
   "execution_count": 8,
   "id": "ca3d4e75-af64-42d8-9033-04289b28582c",
   "metadata": {},
   "outputs": [],
   "source": [
    "def prime_num():\n",
    "    yield 2\n",
    "    prime_list = [2]\n",
    "    for n  in range(3,1000):\n",
    "        for i in prime_list:\n",
    "            if n%i == 0:\n",
    "                break\n",
    "        else:\n",
    "            yield n\n",
    "            prime_list.append(n)\n",
    "\n",
    "prime_new_list = prime_num()"
   ]
  },
  {
   "cell_type": "code",
   "execution_count": 9,
   "id": "c1b674f9-e7c6-47db-afcc-a6024f1ba95c",
   "metadata": {},
   "outputs": [
    {
     "name": "stdout",
     "output_type": "stream",
     "text": [
      "2\n",
      "3\n",
      "5\n",
      "7\n",
      "11\n",
      "13\n",
      "17\n",
      "19\n",
      "23\n",
      "29\n",
      "31\n",
      "37\n",
      "41\n",
      "43\n",
      "47\n",
      "53\n",
      "59\n",
      "61\n",
      "67\n",
      "71\n"
     ]
    }
   ],
   "source": [
    "for i in range(20):\n",
    "    print(next(prime_new_list))"
   ]
  },
  {
   "cell_type": "markdown",
   "id": "6b0d758e-bba5-42e9-b0bf-e2d876452374",
   "metadata": {},
   "source": [
    "Q6. Write a python program to print the first 10 Fibonacci numbers using a while loop."
   ]
  },
  {
   "cell_type": "code",
   "execution_count": 10,
   "id": "e35eb87c-d37a-4af0-beaf-92ae512c5097",
   "metadata": {},
   "outputs": [],
   "source": [
    "def fibonacci():\n",
    "    a , b = 0 , 1 \n",
    "    while True:\n",
    "        yield a\n",
    "        a , b = b , a+b\n",
    "fib = fibonacci()\n"
   ]
  },
  {
   "cell_type": "code",
   "execution_count": 11,
   "id": "f08e2f93-def5-4ab2-b5e8-cdf4ed2ba1b0",
   "metadata": {},
   "outputs": [
    {
     "name": "stdout",
     "output_type": "stream",
     "text": [
      "0\n",
      "1\n",
      "1\n",
      "2\n",
      "3\n",
      "5\n",
      "8\n",
      "13\n",
      "21\n",
      "34\n"
     ]
    }
   ],
   "source": [
    "for i in range(10):\n",
    "    print(next(fib))"
   ]
  },
  {
   "cell_type": "markdown",
   "id": "aa1af5d6-8d18-41dc-813a-b7e69761217c",
   "metadata": {},
   "source": [
    "Q7. Write a List Comprehension to iterate through the given string: ‘pwskills’.\n",
    "Expected output: ['p', 'w', 's', 'k', 'i', 'l', 'l', 's']"
   ]
  },
  {
   "cell_type": "code",
   "execution_count": 14,
   "id": "698228d8-df81-4270-83e2-3bae3de8919d",
   "metadata": {},
   "outputs": [
    {
     "name": "stdout",
     "output_type": "stream",
     "text": [
      "['p', 'w', 's', 'k', 'i', 'l', 'l', 's']\n"
     ]
    }
   ],
   "source": [
    "a = \"pwskills\"\n",
    "new_list = []\n",
    "for i in a :\n",
    "    new_list.append(i)\n",
    "print(new_list)"
   ]
  },
  {
   "cell_type": "markdown",
   "id": "9139f711-de95-49be-8a96-9a150aba2f21",
   "metadata": {},
   "source": [
    "Q8. Write a python program to check whether a given number is Palindrome or not using a while loop."
   ]
  },
  {
   "cell_type": "code",
   "execution_count": 21,
   "id": "b7e58610-1ae6-454f-b808-6a3abf3ff7f4",
   "metadata": {},
   "outputs": [
    {
     "name": "stdin",
     "output_type": "stream",
     "text": [
      "enter your number: 121\n"
     ]
    },
    {
     "name": "stdout",
     "output_type": "stream",
     "text": [
      "121 The number is a palindrome.\n"
     ]
    }
   ],
   "source": [
    "def is_palindrome(n):\n",
    "    a = 0\n",
    "    b = n\n",
    "    while b > 0:\n",
    "        a = (a * 10) + (b % 10)\n",
    "        b //= 10\n",
    "    return n == a\n",
    "n = int(input(\"enter your number:\"))\n",
    "if is_palindrome(n):\n",
    "    print(f\"{n} The number is a palindrome.\")\n",
    "else :\n",
    "    print(f\"{n} The number is not a palindrome.\")"
   ]
  },
  {
   "cell_type": "markdown",
   "id": "b54054f6-3b4b-4031-85ed-f4ae36a6e08e",
   "metadata": {},
   "source": [
    "Q9. Write a code to print odd numbers from 1 to 100 using list comprehension."
   ]
  },
  {
   "cell_type": "code",
   "execution_count": 30,
   "id": "105dc13f-aceb-4a91-ae09-96f7130f3eee",
   "metadata": {},
   "outputs": [
    {
     "name": "stdout",
     "output_type": "stream",
     "text": [
      "[1, 3, 5, 7, 9, 11, 13, 15, 17, 19, 21, 23, 25, 27, 29, 31, 33, 35, 37, 39, 41, 43, 45, 47, 49, 51, 53, 55, 57, 59, 61, 63, 65, 67, 69, 71, 73, 75, 77, 79, 81, 83, 85, 87, 89, 91, 93, 95, 97, 99]\n"
     ]
    }
   ],
   "source": [
    "new_list = []\n",
    "for i in range(1,101):\n",
    "    new_list.append(i)\n",
    "a = list(filter(lambda x : x%2!=0 , new_list))\n",
    "print(a)"
   ]
  },
  {
   "cell_type": "code",
   "execution_count": null,
   "id": "b9131942-9cc4-4860-85ba-ba564ca1e3e7",
   "metadata": {},
   "outputs": [],
   "source": []
  }
 ],
 "metadata": {
  "kernelspec": {
   "display_name": "Python 3 (ipykernel)",
   "language": "python",
   "name": "python3"
  },
  "language_info": {
   "codemirror_mode": {
    "name": "ipython",
    "version": 3
   },
   "file_extension": ".py",
   "mimetype": "text/x-python",
   "name": "python",
   "nbconvert_exporter": "python",
   "pygments_lexer": "ipython3",
   "version": "3.10.8"
  }
 },
 "nbformat": 4,
 "nbformat_minor": 5
}
