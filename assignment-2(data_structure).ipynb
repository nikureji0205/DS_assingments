{
 "cells": [
  {
   "cell_type": "markdown",
   "id": "e343fc40-f633-4d99-ab55-5e9ba796fb8f",
   "metadata": {},
   "source": [
    "Q1. How do you comment code in Python? What are the different types of comments?\n",
    "\n",
    "ans: There are three types of comments: single-line, multi-line, and docstring comments.\n",
    "(i) single-line comments:\n",
    "\n",
    "single-line comments begin with the '#' charavter. Anything that is written in a single line after '#' is considered as a comment.\n",
    "\n",
    "(iii)docstrings coments:\n",
    "\n",
    "it is use to commenting on modules , methods, function ,object and classes. for better understanding of user who is using that code .\n",
    "they are written in the first line after definig a module, function, method, etc, they are written using (\"\"\" \"\"\")or (''' ''')\n",
    "\n"
   ]
  },
  {
   "cell_type": "code",
   "execution_count": 1,
   "id": "8760ea46-f282-4b8f-a0c2-e6cc1b750b64",
   "metadata": {},
   "outputs": [],
   "source": [
    "#(i) single-line comments :\n",
    "# hey there my name is prajwal nikure"
   ]
  },
  {
   "cell_type": "code",
   "execution_count": 4,
   "id": "f8ed616d-4749-4c9d-a11a-1626c87dcc89",
   "metadata": {},
   "outputs": [
    {
     "name": "stdout",
     "output_type": "stream",
     "text": [
      "this my hey function\n",
      "hey my name is prajwal \n",
      "None\n"
     ]
    }
   ],
   "source": [
    "#(ii) docstring comments :\n",
    "def hey():\n",
    "    \"\"\"this my hey function\"\"\"\n",
    "    print(\"hey my name is prajwal \")\n",
    "print(hey.__doc__)\n",
    "print(hey())"
   ]
  },
  {
   "cell_type": "markdown",
   "id": "fc21a70c-8bef-4f94-bef2-0b3b4ae60350",
   "metadata": {},
   "source": [
    "Q2. What are variables in Python? How do you declare and assign values to variables?"
   ]
  },
  {
   "cell_type": "markdown",
   "id": "aa8e1ad9-2b94-408e-b3da-ee3978e027ee",
   "metadata": {},
   "source": [
    "ans: A variable is a string of characters and numbers associated with a piece of information. The assignment operator, denoted by the “=” symbol, is the operator that is used to assign values to variables in Python.\n",
    "given below is the example of the variable ."
   ]
  },
  {
   "cell_type": "code",
   "execution_count": 9,
   "id": "1a22ef4b-243d-4ff2-b0e7-856977a2129f",
   "metadata": {},
   "outputs": [
    {
     "name": "stdout",
     "output_type": "stream",
     "text": [
      "prajwal \n",
      " 76789036\n"
     ]
    }
   ],
   "source": [
    "sudh = \"prajwal\"\n",
    "sudh1 = 76789036\n",
    "print(sudh, '\\n', sudh1)"
   ]
  },
  {
   "cell_type": "markdown",
   "id": "8e887f62-f0f5-403a-a226-ade50888a93b",
   "metadata": {},
   "source": [
    "Q3. How do you convert one data type to another in Python?"
   ]
  },
  {
   "cell_type": "code",
   "execution_count": 30,
   "id": "f324a199-07bb-4708-87b1-87d81d4e618b",
   "metadata": {},
   "outputs": [
    {
     "name": "stdout",
     "output_type": "stream",
     "text": [
      "98645 98679\n"
     ]
    },
    {
     "data": {
      "text/plain": [
       "int"
      ]
     },
     "execution_count": 30,
     "metadata": {},
     "output_type": "execute_result"
    }
   ],
   "source": [
    "sudh = eval(\"98645\")\n",
    "print(sudh,sudh+34)\n",
    "praj = 23122\n",
    "n = str(praj)\n",
    "type(sudh)"
   ]
  },
  {
   "cell_type": "code",
   "execution_count": 29,
   "id": "07efd755-bc62-4586-aa8e-913ee75c6f61",
   "metadata": {},
   "outputs": [
    {
     "data": {
      "text/plain": [
       "str"
      ]
     },
     "execution_count": 29,
     "metadata": {},
     "output_type": "execute_result"
    }
   ],
   "source": [
    "type(n)"
   ]
  },
  {
   "cell_type": "markdown",
   "id": "be5c9138-f1c6-476e-b80a-65e0cabf12d5",
   "metadata": {},
   "source": [
    "Q4. How do you write and execute a Python script from the command line?\n",
    "\n",
    "ans :\n",
    "      in python you can run your scripts line by line in a sequence.\n",
    "       in command line or command prompt \n",
    "     \n",
    "     (i) first open command prompt on your machine and type'python' and press enter .\n",
    "     after tha if you want to print the hellow world in prompt type 'print(\"hello world\")'\n",
    "     this how we can run your scripts in command line "
   ]
  },
  {
   "cell_type": "markdown",
   "id": "e6bc255c-ca70-40f6-9cfc-8ddb73077c97",
   "metadata": {},
   "source": [
    "Q5. Given a list my_list = [1, 2, 3, 4, 5], write the code to slice the list and obtain the sub-list [2, 3]."
   ]
  },
  {
   "cell_type": "code",
   "execution_count": 5,
   "id": "3ab2977b-d284-4b18-9b71-4d0cbe916502",
   "metadata": {},
   "outputs": [
    {
     "name": "stdout",
     "output_type": "stream",
     "text": [
      "[1, 2]\n"
     ]
    }
   ],
   "source": [
    "my_list = [1,2,3,4,5]\n",
    "new_my_list =[]\n",
    "for i in my_list:\n",
    "    if i ==1:\n",
    "        new_my_list.append(i)\n",
    "    elif i==2:\n",
    "        new_my_list.append(i)\n",
    "print(new_my_list)\n",
    "    "
   ]
  },
  {
   "cell_type": "markdown",
   "id": "c958dc29-7065-4760-8740-e123cf5c871c",
   "metadata": {},
   "source": [
    "Q6. What is a complex number in mathematics, and how is it represented in Python?\n",
    "\n",
    "ans: Complex numbers are the numbers that are expressed in the form of a+ib where, a,b are real numbers and 'i' is an imaginary number called “iota”."
   ]
  },
  {
   "cell_type": "code",
   "execution_count": 8,
   "id": "281d8e0e-1ef3-4b7f-9349-e31b0239107a",
   "metadata": {},
   "outputs": [
    {
     "name": "stdout",
     "output_type": "stream",
     "text": [
      "(34+67j)\n"
     ]
    },
    {
     "data": {
      "text/plain": [
       "34.0"
      ]
     },
     "execution_count": 8,
     "metadata": {},
     "output_type": "execute_result"
    }
   ],
   "source": [
    "complex_no = 34+67j\n",
    "print(complex_no)\n",
    "complex_no.imag\n",
    "complex_no.real"
   ]
  },
  {
   "cell_type": "markdown",
   "id": "8f563c52-30b6-46c7-a58e-302167fab9d1",
   "metadata": {},
   "source": [
    "Q7. What is the correct way to declare a variable named age and assign the value 25 to it?"
   ]
  },
  {
   "cell_type": "code",
   "execution_count": 9,
   "id": "dd44471a-4dac-49b1-82a9-db374b2d6036",
   "metadata": {},
   "outputs": [
    {
     "name": "stdout",
     "output_type": "stream",
     "text": [
      "25\n"
     ]
    }
   ],
   "source": [
    "age = 25\n",
    "print(age)"
   ]
  },
  {
   "cell_type": "markdown",
   "id": "9d0251f1-7a49-4bf6-80af-bc3673739b9e",
   "metadata": {},
   "source": [
    "Q8. Declare a variable named price and assign the value 9.99 to it. What data type does this variable\n",
    "belong to?"
   ]
  },
  {
   "cell_type": "code",
   "execution_count": 11,
   "id": "388ddb58-d5a0-4db3-a7ca-040749a54eb4",
   "metadata": {},
   "outputs": [
    {
     "name": "stdout",
     "output_type": "stream",
     "text": [
      "9.99\n"
     ]
    },
    {
     "data": {
      "text/plain": [
       "float"
      ]
     },
     "execution_count": 11,
     "metadata": {},
     "output_type": "execute_result"
    }
   ],
   "source": [
    "price = 9.99\n",
    "print(price)\n",
    "type(price)"
   ]
  },
  {
   "cell_type": "markdown",
   "id": "ba90d6fd-27d8-438b-997f-7d304b51f9da",
   "metadata": {},
   "source": [
    "Q9. Create a variable named name and assign your full name to it as a string. How would you print the\n",
    "value of this variable?"
   ]
  },
  {
   "cell_type": "code",
   "execution_count": 13,
   "id": "a143d1fc-bea4-4412-a057-228204518ca5",
   "metadata": {},
   "outputs": [
    {
     "name": "stdout",
     "output_type": "stream",
     "text": [
      "Prajwal Devidas Nikure\n"
     ]
    }
   ],
   "source": [
    "name = \"Prajwal Devidas Nikure\"\n",
    "print(name)"
   ]
  },
  {
   "cell_type": "markdown",
   "id": "04412d19-a63e-4f57-a7d1-cb33102832da",
   "metadata": {},
   "source": [
    "Q10. Given the string \"Hello, World!\", extract the substring \"World\"."
   ]
  },
  {
   "cell_type": "code",
   "execution_count": 21,
   "id": "06d88e6c-04ac-43f1-8a33-26447111ccc0",
   "metadata": {},
   "outputs": [
    {
     "data": {
      "text/plain": [
       "'world'"
      ]
     },
     "execution_count": 21,
     "metadata": {},
     "output_type": "execute_result"
    }
   ],
   "source": [
    "x = \"hello world\"\n",
    "x[6:11]"
   ]
  },
  {
   "cell_type": "markdown",
   "id": "22a25edc-a831-4bd9-ba9a-27bddc95faa8",
   "metadata": {},
   "source": [
    "Q11. Create a variable named \"is_student\" and assign it a boolean value indicating whether you are\n",
    "currently a student or not."
   ]
  },
  {
   "cell_type": "code",
   "execution_count": null,
   "id": "cc8451f0-6a7b-4713-b1a8-021fcf4be1b8",
   "metadata": {},
   "outputs": [],
   "source": [
    "is_"
   ]
  }
 ],
 "metadata": {
  "kernelspec": {
   "display_name": "Python 3 (ipykernel)",
   "language": "python",
   "name": "python3"
  },
  "language_info": {
   "codemirror_mode": {
    "name": "ipython",
    "version": 3
   },
   "file_extension": ".py",
   "mimetype": "text/x-python",
   "name": "python",
   "nbconvert_exporter": "python",
   "pygments_lexer": "ipython3",
   "version": "3.10.8"
  }
 },
 "nbformat": 4,
 "nbformat_minor": 5
}
