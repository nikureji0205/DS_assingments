{
 "cells": [
  {
   "cell_type": "markdown",
   "id": "265a9b91-7ba8-4415-a142-10b883201373",
   "metadata": {},
   "source": [
    "create one variable containig the following type of data :\n",
    "\n",
    "(i)string\n",
    "(ii)list\n",
    "(iii)float\n",
    "(iv)tuple"
   ]
  },
  {
   "cell_type": "code",
   "execution_count": 1,
   "id": "2840c9a2-53e5-4bbd-8092-e9d434b25d1d",
   "metadata": {},
   "outputs": [
    {
     "name": "stdout",
     "output_type": "stream",
     "text": [
      "hello prajwal <class 'str'> \n",
      " [12, 34, 56, 'shudanshu sir ', 90.89] <class 'list'> \n",
      " 35.76 <class 'float'> \n",
      " (90, 89, 87.9, [1, 2, 3], 'prajwal') <class 'tuple'>\n"
     ]
    }
   ],
   "source": [
    "str_v = \"hello prajwal\"\n",
    "lis_v = [12,34,56,\"shudanshu sir \",90.89]\n",
    "flo_v = 35.76\n",
    "tup_v = (90,89,87.90,[1,2,3],\"prajwal\")\n",
    "print(str_v, type(str_v),'\\n',lis_v ,type(lis_v),'\\n',flo_v,type(flo_v),'\\n',tup_v,type(tup_v))"
   ]
  },
  {
   "cell_type": "markdown",
   "id": "8d886611-e893-444b-8a70-fb849ce6289c",
   "metadata": {},
   "source": [
    "OR"
   ]
  },
  {
   "cell_type": "code",
   "execution_count": 2,
   "id": "70e85247-0a79-49bc-a32d-7302f307e766",
   "metadata": {},
   "outputs": [
    {
     "name": "stdout",
     "output_type": "stream",
     "text": [
      "hello_sir <class 'str'>\n",
      "[1, 2, 34] <class 'list'>\n",
      "45.04 <class 'float'>\n",
      "(45, 78, 90) <class 'tuple'>\n"
     ]
    }
   ],
   "source": [
    "praj = [\"hello_sir\",[1,2,34,],45.04,(45,78,90)]\n",
    "for i in praj:\n",
    "    print(i,type(i))"
   ]
  },
  {
   "cell_type": "markdown",
   "id": "a1e333e3-9d79-4730-ac82-e38319cbc17f",
   "metadata": {},
   "source": [
    "Q2. Given are some following variables containing data:\n",
    "\n",
    "(i) var1 = ‘ ‘\n",
    "(ii) var2 = ‘[ DS , ML , Python]’\n",
    "(iii) var3 = [ ‘DS’ , ’ML’ , ‘Python’ ]\n",
    "(iv) var4 = 1.\n",
    "\n",
    "What will be the data type of the above given variable."
   ]
  },
  {
   "cell_type": "markdown",
   "id": "213f4565-4dbe-4def-b0a3-8b2dea37d94a",
   "metadata": {},
   "source": [
    "(i) var1 = ‘ ‘\n",
    "data type of var1 is string\n",
    "\n",
    "(ii) var2 = ‘[ DS , ML , Python]’\n",
    "data type of var2 is string\n",
    "\n",
    "(iii) var3 = [ ‘DS’ , ’ML’ , ‘Python’ ]\n",
    "data type of var3 is list\n",
    "\n",
    "(iv) var4 = 1.\n",
    "data type of var4 is float"
   ]
  },
  {
   "cell_type": "markdown",
   "id": "cb6b7666-0511-4105-92b4-4f1fd043ab97",
   "metadata": {},
   "source": [
    "Q3. Explain the use of the following operators using an example:\n",
    "\n",
    "(i) /\n",
    "(ii) %\n",
    "(iii) //\n",
    "(iv) **"
   ]
  },
  {
   "cell_type": "markdown",
   "id": "406768d2-b4c9-4a9c-9589-d990fd38b969",
   "metadata": {},
   "source": [
    "(i) / : it is DIVISION operator as it is use to do mathematical calculation in programming , example is given below:"
   ]
  },
  {
   "cell_type": "code",
   "execution_count": 3,
   "id": "114732e5-a4f4-4d47-ab1a-7c76cbef10e3",
   "metadata": {},
   "outputs": [
    {
     "name": "stdout",
     "output_type": "stream",
     "text": [
      "5.0\n"
     ]
    }
   ],
   "source": [
    "a ,b = 10,2\n",
    "print(a/b)"
   ]
  },
  {
   "cell_type": "markdown",
   "id": "1edf08d2-cff9-4ff0-bbaf-c0ce2c7621e6",
   "metadata": {},
   "source": [
    "(ii) % : it is MODULUS operator as it is also use to do mathematical calculation in programming , ecample is given below:\n"
   ]
  },
  {
   "cell_type": "code",
   "execution_count": 4,
   "id": "9372f7cd-3fd0-427c-8fc8-8410f317d771",
   "metadata": {},
   "outputs": [
    {
     "name": "stdout",
     "output_type": "stream",
     "text": [
      "0\n"
     ]
    }
   ],
   "source": [
    "a ,b = 10,2\n",
    "print(a%b)"
   ]
  },
  {
   "cell_type": "markdown",
   "id": "7c719742-6dc3-4fb4-b196-2e2f5230a507",
   "metadata": {},
   "source": [
    "(iii) // : it is FLOOR DIVISION operator as it is also use to do mathematical calculation in programming , ecample is given below:\n"
   ]
  },
  {
   "cell_type": "code",
   "execution_count": 5,
   "id": "ab8a350d-3f09-4fc9-92e0-b78f210192c8",
   "metadata": {},
   "outputs": [
    {
     "name": "stdout",
     "output_type": "stream",
     "text": [
      "5\n"
     ]
    }
   ],
   "source": [
    "a ,b = 10,2\n",
    "print(a//b)"
   ]
  },
  {
   "cell_type": "markdown",
   "id": "204cfe6b-849e-444d-9162-f013095d82f9",
   "metadata": {},
   "source": [
    "(iv) ** : it is EXPONENTIATION operator as it is also use to do mathematical calculation in programming , ecample is given below:"
   ]
  },
  {
   "cell_type": "code",
   "execution_count": 6,
   "id": "bd5af642-6fbd-43b6-b694-422a0b8a60b9",
   "metadata": {},
   "outputs": [
    {
     "name": "stdout",
     "output_type": "stream",
     "text": [
      "100\n"
     ]
    }
   ],
   "source": [
    "a ,b = 10,2\n",
    "print(a**b)"
   ]
  },
  {
   "cell_type": "markdown",
   "id": "063e76a5-8120-4aef-91e4-02e155e8123a",
   "metadata": {},
   "source": [
    "Q4. Create a list of length 10 of your choice containing multiple types of data. Using for loop print the\n",
    "element and its data type."
   ]
  },
  {
   "cell_type": "code",
   "execution_count": 7,
   "id": "cdb859c5-513e-4f57-b09c-3702bdb025a9",
   "metadata": {},
   "outputs": [
    {
     "name": "stdout",
     "output_type": "stream",
     "text": [
      "length of the given list is 10\n",
      "hello_sir <class 'str'>\n",
      "[1, 2, 34] <class 'list'>\n",
      "45.04 <class 'float'>\n",
      "(45, 78, 90) <class 'tuple'>\n",
      "{56, 'sudhanshu_sir', 22} <class 'set'>\n",
      "{'class': 'data_science', 'time': '7:30-8:30'} <class 'dict'>\n",
      "True <class 'bool'>\n",
      "10 <class 'int'>\n",
      "hello <class 'str'>\n",
      "0 <class 'int'>\n"
     ]
    }
   ],
   "source": [
    "\n",
    "praj = [\"hello_sir\",[1,2,34,],45.04,(45,78,90),{22,56,\"sudhanshu_sir\"},{\"class\":\"data_science\",\"time\":\"7:30-8:30\"},True,10,\"hello\",0]\n",
    "print(f\"length of the given list is {len(praj)}\")\n",
    "for i in praj:\n",
    "    print(i,type(i))"
   ]
  },
  {
   "cell_type": "markdown",
   "id": "919c3dea-37cc-492f-b26c-7059093e1f04",
   "metadata": {},
   "source": [
    "Q5. Using a while loop, verify if the number A is purely divisible by number B and if so then how many\n",
    "times it can be divisible."
   ]
  },
  {
   "cell_type": "code",
   "execution_count": 10,
   "id": "fc105a41-3f75-4a1d-b772-3cd3d8c8fc8e",
   "metadata": {},
   "outputs": [
    {
     "name": "stdin",
     "output_type": "stream",
     "text": [
      "enter the value of a : 48\n",
      "enter the value of b : 12\n"
     ]
    },
    {
     "name": "stdout",
     "output_type": "stream",
     "text": [
      "a is divisible b and it can be divisible 4.0 times\n"
     ]
    }
   ],
   "source": [
    "a = int(input(\"enter the value of a :\"))\n",
    "b = int(input(\"enter the value of b :\"))\n",
    "while(a%b == 0):\n",
    "    print(f\"a is divisible b and it can be divisible {a/b} times\")\n",
    "\n",
    "    break\n",
    "    "
   ]
  },
  {
   "cell_type": "markdown",
   "id": "1fb640c2-0258-4889-bb6f-1da7af88f6a1",
   "metadata": {},
   "source": [
    "Q6. Create a list containing 25 int type data. Using for loop and if-else condition print if the element is\n",
    "divisible by 3 or not."
   ]
  },
  {
   "cell_type": "code",
   "execution_count": 12,
   "id": "56465784-389d-49a6-91c2-446b7f18b821",
   "metadata": {},
   "outputs": [
    {
     "name": "stdout",
     "output_type": "stream",
     "text": [
      "element is not divisible by 3: and the element is :1\n",
      "element is not divisible by 3: and the element is :2\n",
      "element is divisible by 3: and the element is :3\n",
      "element is not divisible by 3: and the element is :4\n",
      "element is not divisible by 3: and the element is :5\n",
      "element is divisible by 3: and the element is :6\n",
      "element is not divisible by 3: and the element is :7\n",
      "element is not divisible by 3: and the element is :8\n",
      "element is divisible by 3: and the element is :9\n",
      "element is not divisible by 3: and the element is :10\n",
      "element is not divisible by 3: and the element is :11\n",
      "element is divisible by 3: and the element is :12\n",
      "element is not divisible by 3: and the element is :13\n",
      "element is not divisible by 3: and the element is :14\n",
      "element is divisible by 3: and the element is :15\n",
      "element is not divisible by 3: and the element is :16\n",
      "element is not divisible by 3: and the element is :17\n",
      "element is divisible by 3: and the element is :18\n",
      "element is not divisible by 3: and the element is :19\n",
      "element is not divisible by 3: and the element is :20\n",
      "element is divisible by 3: and the element is :21\n",
      "element is not divisible by 3: and the element is :22\n",
      "element is not divisible by 3: and the element is :23\n",
      "element is divisible by 3: and the element is :24\n",
      "element is not divisible by 3: and the element is :25\n"
     ]
    }
   ],
   "source": [
    "l = [1,2,3,4,5,6,7,8,9,10,11,12,13,14,15,16,17,18,19,20,21,22,23,24,25]\n",
    "for i in l:\n",
    "    if(i%3==0):\n",
    "        print(f\"element is divisible by 3: and the element is :{i}\")\n",
    "    else:\n",
    "        print(f\"element is not divisible by 3: and the element is :{i}\")"
   ]
  },
  {
   "cell_type": "markdown",
   "id": "49e7ebd9-337a-4888-ad30-630600ce75d7",
   "metadata": {},
   "source": [
    "Q7. What do you understand about mutable and immutable data types? Give examples for both showing\n",
    "this property.\n",
    "\n",
    "Ans: mutable are the objects which can be change after it has been created where as in An immutable object cannot be changed after it is created\n"
   ]
  },
  {
   "cell_type": "code",
   "execution_count": 14,
   "id": "7d0904a5-46e1-46c6-bc58-78165502433b",
   "metadata": {},
   "outputs": [
    {
     "name": "stdout",
     "output_type": "stream",
     "text": [
      "[1, 2, 3, 'hi_sir', 5]\n"
     ]
    }
   ],
   "source": [
    "# mutable\n",
    "l = [1,2,3,4,5]\n",
    "l[3] = \"hi_sir\"\n",
    "print(l)"
   ]
  },
  {
   "cell_type": "code",
   "execution_count": 17,
   "id": "f4af5d49-f4dc-46d7-ac90-685d30123174",
   "metadata": {},
   "outputs": [
    {
     "ename": "TypeError",
     "evalue": "'tuple' object does not support item assignment",
     "output_type": "error",
     "traceback": [
      "\u001b[0;31m---------------------------------------------------------------------------\u001b[0m",
      "\u001b[0;31mTypeError\u001b[0m                                 Traceback (most recent call last)",
      "Cell \u001b[0;32mIn[17], line 3\u001b[0m\n\u001b[1;32m      1\u001b[0m \u001b[38;5;66;03m#immutable\u001b[39;00m\n\u001b[1;32m      2\u001b[0m t \u001b[38;5;241m=\u001b[39m (\u001b[38;5;241m1\u001b[39m,\u001b[38;5;241m2\u001b[39m,\u001b[38;5;241m3\u001b[39m,\u001b[38;5;241m4\u001b[39m,\u001b[38;5;241m5\u001b[39m)\n\u001b[0;32m----> 3\u001b[0m \u001b[43mt\u001b[49m\u001b[43m[\u001b[49m\u001b[38;5;241;43m3\u001b[39;49m\u001b[43m]\u001b[49m \u001b[38;5;241m=\u001b[39m \u001b[38;5;124m\"\u001b[39m\u001b[38;5;124mhi_sir\u001b[39m\u001b[38;5;124m\"\u001b[39m\n\u001b[1;32m      4\u001b[0m \u001b[38;5;28mprint\u001b[39m(t)\n",
      "\u001b[0;31mTypeError\u001b[0m: 'tuple' object does not support item assignment"
     ]
    }
   ],
   "source": [
    "#immutable\n",
    "t = (1,2,3,4,5)\n",
    "t[3] = \"hi_sir\"\n",
    "print(t)"
   ]
  },
  {
   "cell_type": "code",
   "execution_count": null,
   "id": "265688fe-0f96-4bed-98c2-714d7b483e72",
   "metadata": {},
   "outputs": [],
   "source": []
  }
 ],
 "metadata": {
  "kernelspec": {
   "display_name": "Python 3 (ipykernel)",
   "language": "python",
   "name": "python3"
  },
  "language_info": {
   "codemirror_mode": {
    "name": "ipython",
    "version": 3
   },
   "file_extension": ".py",
   "mimetype": "text/x-python",
   "name": "python",
   "nbconvert_exporter": "python",
   "pygments_lexer": "ipython3",
   "version": "3.10.8"
  }
 },
 "nbformat": 4,
 "nbformat_minor": 5
}
