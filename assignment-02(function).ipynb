{
 "cells": [
  {
   "cell_type": "markdown",
   "id": "598312c2-1c5c-4413-bfa5-8eea43a0aa57",
   "metadata": {},
   "source": [
    "Q1. Create a python program to sort the given list of tuples based on integer value using a\n",
    "lambda function.\n",
    "\n",
    "[('Sachin Tendulkar', 34357), ('Ricky Ponting', 27483), ('Jack Kallis', 25534), ('Virat Kohli', 24936)]"
   ]
  },
  {
   "cell_type": "code",
   "execution_count": 17,
   "id": "d5cdfc21-33d1-4245-9a1a-d83ba5ac0890",
   "metadata": {},
   "outputs": [
    {
     "name": "stdout",
     "output_type": "stream",
     "text": [
      "[34357, 27483, 25534, 24936]\n"
     ]
    }
   ],
   "source": [
    "lis_01 = [('Sachin Tendulkar', 34357), ('Ricky Ponting', 27483), ('Jack Kallis', 25534), ('Virat Kohli', 24936)]\n",
    "lis_02 = []\n",
    "sorting_int = lambda j : lis_02.append(j) if type(j) == int else print(\"hi\")\n",
    "def list_init(func):\n",
    "    for i in lis_01:\n",
    "        for j in i:\n",
    "            func()\n",
    "    print(lis_02)\n",
    "list_int()"
   ]
  },
  {
   "cell_type": "markdown",
   "id": "93203ba0-d9c8-4230-942a-9ae375eb2c0e",
   "metadata": {},
   "source": [
    "Q2. Write a Python Program to find the squares of all the numbers in the given list of integers using\n",
    "lambda and map functions.\n",
    "[1, 2, 3, 4, 5, 6, 7, 8, 9, 10]"
   ]
  },
  {
   "cell_type": "code",
   "execution_count": 19,
   "id": "8bb6a16a-e633-4479-99a6-552bc7b5db11",
   "metadata": {},
   "outputs": [
    {
     "name": "stdout",
     "output_type": "stream",
     "text": [
      "[1, 4, 9, 16, 25, 36, 49, 64, 81, 100]\n"
     ]
    }
   ],
   "source": [
    "lis_01 = [1, 2, 3, 4, 5, 6, 7, 8, 9, 10]\n",
    "def squre_01(x):\n",
    "    return x**2\n",
    "print(list(map(squre_01,lis_01)))"
   ]
  },
  {
   "cell_type": "markdown",
   "id": "9ff02777-d0a7-4ad7-b969-6ab8c3fab864",
   "metadata": {},
   "source": [
    "Q3. Write a python program to convert the given list of integers into a tuple of strings. Use map and\n",
    "lambda functions\n",
    "Given String: [1, 2, 3, 4, 5, 6, 7, 8, 9, 10]"
   ]
  },
  {
   "cell_type": "code",
   "execution_count": 27,
   "id": "9e8ee31e-2232-45b3-bd73-d640af9c3887",
   "metadata": {},
   "outputs": [
    {
     "name": "stdout",
     "output_type": "stream",
     "text": [
      "('1', '2', '3', '4', '5', '6', '7', '8', '9', '10')\n"
     ]
    }
   ],
   "source": [
    "lis_01 = [1, 2, 3, 4, 5, 6, 7, 8, 9, 10]\n",
    "def str_01(x):\n",
    "    return str(x)\n",
    "print(tuple(map(str_01,lis_01)))"
   ]
  },
  {
   "cell_type": "markdown",
   "id": "834210b9-31ea-41d7-8c7f-60a266b86029",
   "metadata": {},
   "source": [
    "Q4. Write a python program using reduce function to compute the product of a list containing numbers\n",
    "from 1 to 25."
   ]
  },
  {
   "cell_type": "code",
   "execution_count": 37,
   "id": "da141050-ee33-417f-bc7d-62c2e074c58a",
   "metadata": {},
   "outputs": [
    {
     "data": {
      "text/plain": [
       "15511210043330985984000000"
      ]
     },
     "execution_count": 37,
     "metadata": {},
     "output_type": "execute_result"
    }
   ],
   "source": [
    "from functools import reduce\n",
    "lis_01 = []\n",
    "for i in range(1,26):\n",
    "    lis_01.append(i)\n",
    "reduce(lambda x,y : x*y ,lis_01)"
   ]
  },
  {
   "cell_type": "markdown",
   "id": "2e3d5596-6858-41d2-9250-d718c1d93ff9",
   "metadata": {},
   "source": [
    "Q5. Write a python program to filter the numbers in a given list that are divisible by 2 and 3 using the\n",
    "filter function.\n",
    "[2, 3, 6, 9, 27, 60, 90, 120, 55, 46]"
   ]
  },
  {
   "cell_type": "code",
   "execution_count": 39,
   "id": "3c0558eb-7277-4994-8168-a7c1c236994e",
   "metadata": {},
   "outputs": [
    {
     "name": "stdout",
     "output_type": "stream",
     "text": [
      "[2, 3, 6, 9, 27, 60, 90, 120, 46]\n"
     ]
    }
   ],
   "source": [
    "lis_01 = [2, 3, 6, 9, 27, 60, 90, 120, 55, 46]\n",
    "a = list(filter(lambda x : x if x%2 == 0 else x%3 == 0 , lis_01))\n",
    "print(a)"
   ]
  },
  {
   "cell_type": "markdown",
   "id": "19b793c8-1005-4549-8a21-6a273a7ad19f",
   "metadata": {},
   "source": [
    "Q6. Write a python program to find palindromes in the given list of strings using lambda and filter\n",
    "function. ['python', 'php', 'aba', 'radar', 'level']"
   ]
  },
  {
   "cell_type": "code",
   "execution_count": 53,
   "id": "da4e021c-8578-4605-a6ea-24f29231e4a4",
   "metadata": {},
   "outputs": [
    {
     "name": "stdout",
     "output_type": "stream",
     "text": [
      "['php', 'aba', 'radar', 'level']\n"
     ]
    }
   ],
   "source": [
    "lis_01 = ['python', 'php', 'aba', 'radar', 'level']\n",
    "lis_02 = []\n",
    "def praj():\n",
    "    for i in lis_01:\n",
    "        if i == i[::-1]:\n",
    "            lis_02.append(i)\n",
    "    print(lis_02)\n",
    "praj()"
   ]
  },
  {
   "cell_type": "code",
   "execution_count": 55,
   "id": "1b9c8b0a-45db-45cd-ae8e-5e981d999e76",
   "metadata": {},
   "outputs": [
    {
     "ename": "TypeError",
     "evalue": "'filter' object is not callable",
     "output_type": "error",
     "traceback": [
      "\u001b[0;31m---------------------------------------------------------------------------\u001b[0m",
      "\u001b[0;31mTypeError\u001b[0m                                 Traceback (most recent call last)",
      "Cell \u001b[0;32mIn[55], line 4\u001b[0m\n\u001b[1;32m      2\u001b[0m     \u001b[38;5;28;01mreturn\u001b[39;00m a \u001b[38;5;241m==\u001b[39m a[::\u001b[38;5;241m-\u001b[39m\u001b[38;5;241m1\u001b[39m]\n\u001b[1;32m      3\u001b[0m lis_01 \u001b[38;5;241m=\u001b[39m [\u001b[38;5;124m'\u001b[39m\u001b[38;5;124mpython\u001b[39m\u001b[38;5;124m'\u001b[39m, \u001b[38;5;124m'\u001b[39m\u001b[38;5;124mphp\u001b[39m\u001b[38;5;124m'\u001b[39m, \u001b[38;5;124m'\u001b[39m\u001b[38;5;124maba\u001b[39m\u001b[38;5;124m'\u001b[39m, \u001b[38;5;124m'\u001b[39m\u001b[38;5;124mradar\u001b[39m\u001b[38;5;124m'\u001b[39m, \u001b[38;5;124m'\u001b[39m\u001b[38;5;124mlevel\u001b[39m\u001b[38;5;124m'\u001b[39m]\n\u001b[0;32m----> 4\u001b[0m x \u001b[38;5;241m=\u001b[39m \u001b[38;5;28;43mlist\u001b[39;49m\u001b[43m(\u001b[49m\u001b[38;5;28;43mfilter\u001b[39;49m\u001b[43m(\u001b[49m\u001b[43ma\u001b[49m\u001b[43m,\u001b[49m\u001b[43mlis_01\u001b[49m\u001b[43m)\u001b[49m\u001b[43m)\u001b[49m\n\u001b[1;32m      5\u001b[0m \u001b[38;5;28mprint\u001b[39m(x)\n",
      "\u001b[0;31mTypeError\u001b[0m: 'filter' object is not callable"
     ]
    }
   ],
   "source": [
    "def praj(a):\n",
    "    return a == a[::-1]\n",
    "lis_01 = ['python', 'php', 'aba', 'radar', 'level']\n",
    "x = list(filter(a,lis_01))\n",
    "print(x)"
   ]
  },
  {
   "cell_type": "code",
   "execution_count": null,
   "id": "514767f3-e1f1-4fd0-b427-8117a74b2661",
   "metadata": {},
   "outputs": [],
   "source": []
  }
 ],
 "metadata": {
  "kernelspec": {
   "display_name": "Python 3 (ipykernel)",
   "language": "python",
   "name": "python3"
  },
  "language_info": {
   "codemirror_mode": {
    "name": "ipython",
    "version": 3
   },
   "file_extension": ".py",
   "mimetype": "text/x-python",
   "name": "python",
   "nbconvert_exporter": "python",
   "pygments_lexer": "ipython3",
   "version": "3.10.8"
  }
 },
 "nbformat": 4,
 "nbformat_minor": 5
}
