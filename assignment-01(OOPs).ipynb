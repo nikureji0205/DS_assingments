{
 "cells": [
  {
   "cell_type": "markdown",
   "id": "4fa55083-9a45-427b-b2dc-e8b123fac0d4",
   "metadata": {},
   "source": [
    "Q1. Explain Class and Object with respect to Object-Oriented Programming. Give a suitable example.\n",
    "\n",
    "Ans : -In object-oriented programming (OOP), a class is a blueprint that defines the variables and methods of a particular type of object. \n",
    "\n",
    "-Classes are user-defined data types that describe what a certain type of object will look like.\n",
    "\n",
    "object: -An object is an instance of a class that contains real values instead of variables.\n",
    "\n",
    "-Objects are instances of a class created with specifically defined data. They can correspond to real-world objects. "
   ]
  },
  {
   "cell_type": "code",
   "execution_count": 12,
   "id": "803ca47b-c33f-442b-8f89-35230bae3aec",
   "metadata": {},
   "outputs": [
    {
     "name": "stdout",
     "output_type": "stream",
     "text": [
      "tommy\n",
      "('tommy', 'desi', 2)\n"
     ]
    }
   ],
   "source": [
    "class Dog:#this is my class\n",
    "    def __init__(self,dog_name,dog_breed,dog_age):\n",
    "        self.dog_name = dog_name\n",
    "        self.dog_breed = dog_breed\n",
    "        self.dog_age = dog_age\n",
    "    def dog_details(self):\n",
    "        return self.dog_name , self.dog_breed , self.dog_age\n",
    "#this my object or instances\n",
    "obj1 = Dog(\"tommy\", \"desi\" ,2)\n",
    "print(obj1.dog_name)\n",
    "print(obj1.dog_details())"
   ]
  },
  {
   "cell_type": "markdown",
   "id": "0809e68d-5bb7-4e64-b8df-fa1749877840",
   "metadata": {},
   "source": [
    "Q2. Name the four pillars of OOPs.\n",
    "\n",
    "Ans: \n",
    "1.ENCAPSULATION\n",
    "2.INHERITANCE\n",
    "3.POLYMORPHISm\n",
    "4.ABSTRACTION"
   ]
  },
  {
   "cell_type": "markdown",
   "id": "65239c1a-fce2-419c-8cc1-e86b7e5772bb",
   "metadata": {},
   "source": [
    "Q3. Explain why the __init__() function is used. Give a suitable example.\n",
    "\n",
    "ANS : __init__ is the dunder method in python use in OOPs to create the consturctor\n",
    "\n",
    "-The __init__() function is used to initialize the attributes of an object when it is created. It is called automatically when the object is created, and it can be used to set the values of the object's attributes to specific values.\n"
   ]
  },
  {
   "cell_type": "code",
   "execution_count": 14,
   "id": "23b080b6-33ca-43a6-ad84-5592de71580a",
   "metadata": {},
   "outputs": [
    {
     "data": {
      "text/plain": [
       "('prajwal', 21, 6752475)"
      ]
     },
     "execution_count": 14,
     "metadata": {},
     "output_type": "execute_result"
    }
   ],
   "source": [
    "class person:\n",
    "    def __init__(self,person_name , person_age, person_id):\n",
    "        self.person_name = person_name\n",
    "        self.person_age = person_age\n",
    "        self.person_id = person_id\n",
    "    def person_details(self):\n",
    "        return self.person_name, self.person_age , self.person_id\n",
    "obj01 = person(\"prajwal\", 21 , 6752475)\n",
    "obj01.person_details()"
   ]
  },
  {
   "cell_type": "markdown",
   "id": "7cd64a77-9e3b-4c34-87a2-9550d7459468",
   "metadata": {},
   "source": [
    "Q4. Why self is used in OOPs?\n",
    "\n",
    "ANS : The \"self\" keyword is used in Object-Oriented Programming (OOPs) to refer to the current object. This means that when you use \"self\" in a method, you are referring to the object that the method is being called on."
   ]
  },
  {
   "cell_type": "code",
   "execution_count": 21,
   "id": "a959384a-2b96-4e78-a53e-89f35f14a8ec",
   "metadata": {},
   "outputs": [
    {
     "name": "stdout",
     "output_type": "stream",
     "text": [
      "hello sir my name is prajwal nikure\n"
     ]
    }
   ],
   "source": [
    "class employee:\n",
    "    def hello_msg(self):\n",
    "        print(\"hello sir my name is prajwal nikure\")\n",
    "obj_01 = employee()\n",
    "obj_01.hello_msg()"
   ]
  },
  {
   "cell_type": "markdown",
   "id": "2dddd79f-5d52-40d4-87c9-e768d163dab7",
   "metadata": {},
   "source": [
    "Q5. What is inheritance? Give an example for each type of inheritance.\n",
    "\n",
    "Ans :\n",
    "-Inheritance is a feature of object-oriented programming that allows one class to inherit the properties and methods of another class.\n",
    "\n",
    "-This can be used to create a hierarchy of classes, with each class inheriting the properties and methods of its parent class. Inheritance can be used to reuse code and to create more complex and sophisticated programs.\n",
    "\n",
    "type of inheritance are :\n",
    "1.single inheritance\n",
    "2.multilevel inheritance\n",
    "3.multiple inheritance\n",
    "4.hybrid inheritance\n",
    "5.hicarchical inheritance"
   ]
  },
  {
   "cell_type": "code",
   "execution_count": 26,
   "id": "6bc044b3-4e92-4131-bdb3-a5ab4ebaca64",
   "metadata": {},
   "outputs": [
    {
     "name": "stdout",
     "output_type": "stream",
     "text": [
      "my breed is German Shepherds\n",
      "my name is tommy\n"
     ]
    }
   ],
   "source": [
    "#single inheritance\n",
    "class Animal :\n",
    "    def name(self):\n",
    "        print(\"my name is tommy\")\n",
    "class Breed(Animal):\n",
    "    def breed_name(self):\n",
    "        print(\"my breed is German Shepherd\")\n",
    "obj01 = Breed()\n",
    "obj01.breed_name()\n",
    "obj01.name()\n",
    "\n",
    "#"
   ]
  },
  {
   "cell_type": "code",
   "execution_count": 35,
   "id": "8a534b81-8e10-4345-926d-78b0984ed1c7",
   "metadata": {},
   "outputs": [
    {
     "name": "stdout",
     "output_type": "stream",
     "text": [
      "my name is tommy\n",
      "None\n",
      "my breed name is german shepherd\n",
      "None\n",
      "And i like to eats the cat very much\n",
      "None\n",
      "my name is tommy\n",
      "my breed name is german shepherd\n"
     ]
    },
    {
     "ename": "AttributeError",
     "evalue": "'Breed' object has no attribute 'animal_eat'",
     "output_type": "error",
     "traceback": [
      "\u001b[0;31m---------------------------------------------------------------------------\u001b[0m",
      "\u001b[0;31mAttributeError\u001b[0m                            Traceback (most recent call last)",
      "Cell \u001b[0;32mIn[35], line 19\u001b[0m\n\u001b[1;32m     17\u001b[0m obj02\u001b[38;5;241m.\u001b[39mname()\n\u001b[1;32m     18\u001b[0m obj02\u001b[38;5;241m.\u001b[39mbreed_name()\n\u001b[0;32m---> 19\u001b[0m \u001b[43mobj02\u001b[49m\u001b[38;5;241;43m.\u001b[39;49m\u001b[43manimal_eat\u001b[49m()\n",
      "\u001b[0;31mAttributeError\u001b[0m: 'Breed' object has no attribute 'animal_eat'"
     ]
    }
   ],
   "source": [
    "#Multilevel inheritance:\n",
    "class Animal:\n",
    "    def name(self):\n",
    "        print(\"my name is tommy\")\n",
    "class Breed(Animal):\n",
    "    def breed_name(self):\n",
    "        print(\"my breed name is german shepherd\")\n",
    "class eat(Breed):\n",
    "    def animal_eat(self):\n",
    "        print(\"And i like to eats the cat very much\")\n",
    "obj01 = eat()\n",
    "print(obj01.name())\n",
    "print(obj01.breed_name())\n",
    "print(obj01.animal_eat())\n",
    "\n",
    "obj02 = Breed()\n",
    "obj02.name()\n",
    "obj02.breed_name()"
   ]
  },
  {
   "cell_type": "code",
   "execution_count": null,
   "id": "449e22da-3a9d-437f-a868-e0d4ec216f6e",
   "metadata": {},
   "outputs": [],
   "source": [
    "#Multiple inheritance:\n",
    "class Cat():\n",
    "    def name(self):\n",
    "        print(\"my  name is kiity\")\n",
    "class Dog():\n",
    "    def name01(self):\n",
    "        print(\"my name is tommy\")\n",
    "class animals(Cat,Dog):\n",
    "    def details_ani(self):\n",
    "        print(here are some details)"
   ]
  }
 ],
 "metadata": {
  "kernelspec": {
   "display_name": "Python 3 (ipykernel)",
   "language": "python",
   "name": "python3"
  },
  "language_info": {
   "codemirror_mode": {
    "name": "ipython",
    "version": 3
   },
   "file_extension": ".py",
   "mimetype": "text/x-python",
   "name": "python",
   "nbconvert_exporter": "python",
   "pygments_lexer": "ipython3",
   "version": "3.10.8"
  }
 },
 "nbformat": 4,
 "nbformat_minor": 5
}
