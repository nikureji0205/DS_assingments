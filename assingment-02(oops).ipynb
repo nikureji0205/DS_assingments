{
 "cells": [
  {
   "cell_type": "markdown",
   "id": "d6e897e4-cdc0-4744-b88a-8ccca97d0f06",
   "metadata": {},
   "source": [
    "Q1. What is Abstraction in OOps? Explain with an example.\n",
    "\n",
    "Ans: abstraction is the one of thr piller of the the oject oriented programming language , Abstraction is the process of hiding the internal details of an application from the outer world.\n",
    "\n",
    "-It allows you to create a set of methods that must be created within any child classes built from the abstract class.\n",
    "\n",
    "-An abstract method is a method that has a declaration but does not have an implementation.\n",
    "\n",
    "-Abtraction crate the blue print which can be modify while othe class use them \n",
    "\n",
    "-To use Abtraction we have to import the abc class , which is the inbuil class in python whic is also use as decorator "
   ]
  },
  {
   "cell_type": "code",
   "execution_count": 1,
   "id": "803342f1-2194-43ea-9f10-ec9bd0fb2a75",
   "metadata": {},
   "outputs": [
    {
     "name": "stdout",
     "output_type": "stream",
     "text": [
      "Hi,this is employee_01 from the google\n",
      "MY rank in google is senior developer\n",
      "SORRY i'M not allow to told you my salary because it my company protocol\n",
      "HI this is employee_02 from microsoft\n",
      "my rank in mircosoft is java developer\n",
      "sorry, guy can't tell\n"
     ]
    }
   ],
   "source": [
    "import abc\n",
    "class employee:\n",
    "    @abc.abstractmethod\n",
    "    def employee_details(self):\n",
    "        pass\n",
    "    @abc.abstractmethod\n",
    "    def employee_rank(self):\n",
    "        pass\n",
    "    @abc.abstractmethod\n",
    "    def employee_salary(self):\n",
    "        pass\n",
    "class employee_01(employee):\n",
    "    def employee_details(self):\n",
    "        return f\"Hi,this is employee_01 from the google\"\n",
    "    def employee_rank(self):\n",
    "        return \"MY rank in google is senior developer\"\n",
    "    def employee_salary(self):\n",
    "        return \"SORRY i'M not allow to told you my salary because it my company protocol\"\n",
    "class employee_02(employee):\n",
    "    def employee_details(self):\n",
    "        return \"HI this is employee_02 from microsoft\"\n",
    "    def employee_rank(self):\n",
    "        return \"my rank in mircosoft is java developer\"\n",
    "    def employee_salary(self):\n",
    "        return \"sorry, guy can't tell\"\n",
    "emp_01 = employee_01()\n",
    "print(emp_01.employee_details())\n",
    "print(emp_01.employee_rank())\n",
    "print(emp_01.employee_salary())\n",
    "emp_02 = employee_02()\n",
    "print(emp_02.employee_details())\n",
    "print(emp_02.employee_rank())\n",
    "print(emp_02.employee_salary())"
   ]
  },
  {
   "cell_type": "markdown",
   "id": "e14e8707-a2d2-4811-8ba0-97e3730f4c9b",
   "metadata": {},
   "source": [
    "Q2. Differentiate between Abstraction and Encapsulation. Explain with an example.\n",
    "\n",
    "ans : \n",
    "\n",
    "Abstraction: - Abstraction is a process of hiding unnecessary data and showing only relevant data. Out of an ocean of data, we are only maintaining the transparency of some data to the user. This important concept in object-oriented programming will reduce the complexity of the code and increases the readability.\n",
    "\n",
    "-An abstract class is different from abstraction, abstract classes/methods are created with an intention to implement them in child class or subclass. Whereas abstraction is simply hiding the data, and showing only the relevant data by using access specifiers like public, protected, private\n",
    "\n",
    "Encapsulation: - Encapsulation is binding the data members with member variables. This will avoid the direct access of variables, because direct access of variables may violate privacy, and hiding of the implementation will not be possible."
   ]
  },
  {
   "cell_type": "code",
   "execution_count": 2,
   "id": "4df66721-8af1-499f-892d-09c07f7bc3f6",
   "metadata": {},
   "outputs": [
    {
     "name": "stdout",
     "output_type": "stream",
     "text": [
      "this my dog\n",
      "this is my cat\n",
      "this is my monkey\n"
     ]
    }
   ],
   "source": [
    "#Abstraction \n",
    "import abc\n",
    "class Animals:\n",
    "    @abc.abstractmethod\n",
    "    def Dog(self):\n",
    "        pass\n",
    "    @abc.abstractmethod\n",
    "    def Cat(self):\n",
    "        pass\n",
    "    @abc.abstractmethod\n",
    "    def Monkey(self):\n",
    "        pass\n",
    "    \n",
    "    \n",
    "class animals_details(Animals):\n",
    "    def Dog(self):\n",
    "        return\"this my dog\"\n",
    "    def Cat(self):\n",
    "        return \"this is my cat\"\n",
    "    def Monkey(self):\n",
    "        return\"this is my monkey\"\n",
    "obj=animals_details()\n",
    "print(obj.Dog())\n",
    "print(obj.Cat())\n",
    "print(obj.Monkey())"
   ]
  },
  {
   "cell_type": "code",
   "execution_count": 3,
   "id": "7a174f15-c34e-4765-97d1-0928ae866693",
   "metadata": {},
   "outputs": [
    {
     "name": "stdout",
     "output_type": "stream",
     "text": [
      "this is my Dog and his/her name is tommy and it is age of2\n",
      "Dog\n"
     ]
    }
   ],
   "source": [
    "#encapsulation\n",
    "class Animal:\n",
    "    def __init__(self, breed , name ,age):\n",
    "        self.__ani_breed = breed\n",
    "        self.__ani_name = name\n",
    "        self.__ani_age = age\n",
    "    def animal_details(self):\n",
    "        return f\"this is my {self.__ani_breed} and his/her name is {self.__ani_name} and it is age of{self.__ani_age}\"\n",
    "    def animal_special_charater(self):\n",
    "        return \"the are all nice to human if human don't harm them\"\n",
    "\n",
    "ani= Animal(\"Dog\",\"tommy\",2)\n",
    "print(ani.animal_details())\n",
    "print(ani._Animal__ani_breed)"
   ]
  },
  {
   "cell_type": "markdown",
   "id": "f9310e77-1af7-4d0f-a97c-6b458f909f53",
   "metadata": {},
   "source": [
    "Q3. What is abc module in python? Why is it used?\n",
    "\n",
    "Ans : The abc module in Python is a built-in module that provides a way to create abstract base classes (ABCs).\n",
    "\n",
    "ABCs are classes that cannot be instantiated directly, but can be used as a blueprint for other classes to inherit from. This can be useful for ensuring that all classes that inherit from an ABC have certain properties or methods."
   ]
  },
  {
   "cell_type": "code",
   "execution_count": 7,
   "id": "d082731d-1939-44d0-a4f4-8d37cd941558",
   "metadata": {},
   "outputs": [
    {
     "name": "stdout",
     "output_type": "stream",
     "text": [
      "162\n",
      "49\n"
     ]
    }
   ],
   "source": [
    "class Shape :\n",
    "    @abc.abstractmethod\n",
    "    def Area (self):\n",
    "        pass\n",
    "class rectrangle(Shape):\n",
    "    def __init__(self,a ,b,c):\n",
    "        self.a = a\n",
    "        self.b = b\n",
    "        self.c = c\n",
    "    def Area(self):\n",
    "        return self.a*self.b*self.c\n",
    "\n",
    "class square(Shape):\n",
    "    def __init__(self,l):\n",
    "        self.l = l\n",
    "    def Area(self):\n",
    "        return self.l ** 2\n",
    "obj01 = rectrangle(3,6,9)\n",
    "print(obj01.Area())\n",
    "obj02 = square(7)\n",
    "print(obj02.Area())"
   ]
  },
  {
   "cell_type": "markdown",
   "id": "efe95b43-6954-466e-ad91-50cbcd0373bc",
   "metadata": {},
   "source": [
    "Q4. How can we achieve data abstraction?\n",
    "\n",
    "Ans:-Abstract classes.\n",
    "Abstract classes are a way of creating a class that cannot be instantiated. This means that you cannot create an object of the class. Abstract classes are used to provide a common interface for a set of classes.\n",
    "\n",
    "-To create an abstract class, you need to inherit from the ABC class from the abc module. You can then use the abstractmethod decorator to define abstract methods."
   ]
  },
  {
   "cell_type": "markdown",
   "id": "816ea506-a8bd-487f-b9a1-93ede6a047b6",
   "metadata": {},
   "source": [
    "Q5. Can we create an instance of an abstract class? Explain your answer.\n",
    "\n",
    "ans:-No, we cannot create an instance of an abstract class in Python. An abstract class is a blueprint for other classes. It cannot be instantiated directly. Instead, it is used to create other classes that inherit from it. The reason why we cannot create an instance of an abstract class is because it does not have a complete implementation. An abstract class must have at least one abstract method, which is a method that is declared but not defined. When you try to create an instance of an abstract class, you will get an error."
   ]
  }
 ],
 "metadata": {
  "kernelspec": {
   "display_name": "Python 3 (ipykernel)",
   "language": "python",
   "name": "python3"
  },
  "language_info": {
   "codemirror_mode": {
    "name": "ipython",
    "version": 3
   },
   "file_extension": ".py",
   "mimetype": "text/x-python",
   "name": "python",
   "nbconvert_exporter": "python",
   "pygments_lexer": "ipython3",
   "version": "3.10.8"
  }
 },
 "nbformat": 4,
 "nbformat_minor": 5
}
